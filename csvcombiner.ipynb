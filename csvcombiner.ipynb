{
 "cells": [
  {
   "cell_type": "code",
   "execution_count": 1,
   "id": "ba0f7c98-d94d-4a57-a73e-06d159cfd579",
   "metadata": {},
   "outputs": [],
   "source": [
    "import os\n",
    "import pandas as pd\n",
    "import glob"
   ]
  },
  {
   "cell_type": "code",
   "execution_count": 2,
   "id": "302cab33-7190-421b-a32f-fbb1d9261883",
   "metadata": {},
   "outputs": [],
   "source": [
    "path = 'C:/Users/bhagyesh/Desktop/FOSS 2024/new'"
   ]
  },
  {
   "cell_type": "code",
   "execution_count": 3,
   "id": "29b86cb5-ffaf-4271-9f76-acadc0bb4734",
   "metadata": {},
   "outputs": [],
   "source": [
    "df_all = pd.DataFrame()\n",
    "# file_encoding = utf_16"
   ]
  },
  {
   "cell_type": "code",
   "execution_count": 4,
   "id": "f97b0989-ad67-4101-8388-887e646da84f",
   "metadata": {},
   "outputs": [],
   "source": [
    "for filename in glob.glob(os.path.join(path,\"*.csv\")):\n",
    "    df = pd.read_csv(filename, encoding='cp1252')\n",
    "    df['trip']=os.path.basename(filename)\n",
    "    # df_all = df_all.append(df,ignore_index=True)\n",
    "    df_all = pd.concat([df_all, df], ignore_index=True)"
   ]
  },
  {
   "cell_type": "code",
   "execution_count": 5,
   "id": "0b668da8-55cb-4382-84dc-d00e899431ee",
   "metadata": {},
   "outputs": [],
   "source": [
    "df_all.to_csv(\"combined.csv\")"
   ]
  }
 ],
 "metadata": {
  "kernelspec": {
   "display_name": "Python 3 (ipykernel)",
   "language": "python",
   "name": "python3"
  },
  "language_info": {
   "codemirror_mode": {
    "name": "ipython",
    "version": 3
   },
   "file_extension": ".py",
   "mimetype": "text/x-python",
   "name": "python",
   "nbconvert_exporter": "python",
   "pygments_lexer": "ipython3",
   "version": "3.11.5"
  }
 },
 "nbformat": 4,
 "nbformat_minor": 5
}
